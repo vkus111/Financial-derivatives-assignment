{
 "cells": [
  {
   "cell_type": "markdown",
   "id": "8687b646",
   "metadata": {},
   "source": [
    "# #Try to form a loop in the python window(Jupyter or Pycharm for calculating the futures price for each contract traded on a particular date. And append the futures price calculated to the original file. Comment on each case whether the contract is underpriced, overpriced, or fairly priced, and justify. You should at least consider 3 contracts traded on a particular date. (Data for the same to be downloaded from the NSE website or web scrape as per your wish).\n"
   ]
  },
  {
   "cell_type": "code",
   "execution_count": 23,
   "id": "2d5cb87b",
   "metadata": {},
   "outputs": [
    {
     "data": {
      "text/html": [
       "<div>\n",
       "<style scoped>\n",
       "    .dataframe tbody tr th:only-of-type {\n",
       "        vertical-align: middle;\n",
       "    }\n",
       "\n",
       "    .dataframe tbody tr th {\n",
       "        vertical-align: top;\n",
       "    }\n",
       "\n",
       "    .dataframe thead th {\n",
       "        text-align: right;\n",
       "    }\n",
       "</style>\n",
       "<table border=\"1\" class=\"dataframe\">\n",
       "  <thead>\n",
       "    <tr style=\"text-align: right;\">\n",
       "      <th></th>\n",
       "      <th>INSTRUMENT TYPE \\n</th>\n",
       "      <th>SYMBOL \\n</th>\n",
       "      <th>EXPIRY DATE \\n</th>\n",
       "      <th>OPTION TYPE \\n</th>\n",
       "      <th>STRIKE PRICE \\n</th>\n",
       "      <th>LAST PRICE \\n</th>\n",
       "      <th>CHNG \\n</th>\n",
       "      <th>%CHNG \\n</th>\n",
       "      <th>VOLUME \\n(Contracts)</th>\n",
       "      <th>VALUE</th>\n",
       "      <th>OPEN INTEREST \\n</th>\n",
       "      <th>UNDERLYING VALUE \\n</th>\n",
       "    </tr>\n",
       "  </thead>\n",
       "  <tbody>\n",
       "    <tr>\n",
       "      <th>0</th>\n",
       "      <td>Index Futures</td>\n",
       "      <td>NIFTY</td>\n",
       "      <td>28-Apr-22</td>\n",
       "      <td>-</td>\n",
       "      <td>-</td>\n",
       "      <td>17,737.95</td>\n",
       "      <td>193.50</td>\n",
       "      <td>1.10</td>\n",
       "      <td>192261</td>\n",
       "      <td>1,69,22,10,18,543.00</td>\n",
       "      <td>238064</td>\n",
       "      <td>17,670.45</td>\n",
       "    </tr>\n",
       "    <tr>\n",
       "      <th>1</th>\n",
       "      <td>Index Futures</td>\n",
       "      <td>NIFTY</td>\n",
       "      <td>26-May-22</td>\n",
       "      <td>-</td>\n",
       "      <td>-</td>\n",
       "      <td>17,765.00</td>\n",
       "      <td>193.95</td>\n",
       "      <td>1.10</td>\n",
       "      <td>31528</td>\n",
       "      <td>27,80,73,96,484.00</td>\n",
       "      <td>44307</td>\n",
       "      <td>17,670.45</td>\n",
       "    </tr>\n",
       "    <tr>\n",
       "      <th>2</th>\n",
       "      <td>Index Futures</td>\n",
       "      <td>NIFTY</td>\n",
       "      <td>30-Jun-22</td>\n",
       "      <td>-</td>\n",
       "      <td>-</td>\n",
       "      <td>17,800.00</td>\n",
       "      <td>149.65</td>\n",
       "      <td>0.85</td>\n",
       "      <td>4216</td>\n",
       "      <td>3,72,59,70,104.00</td>\n",
       "      <td>2293</td>\n",
       "      <td>17,670.45</td>\n",
       "    </tr>\n",
       "  </tbody>\n",
       "</table>\n",
       "</div>"
      ],
      "text/plain": [
       "  INSTRUMENT TYPE \\n SYMBOL \\n EXPIRY DATE \\n OPTION TYPE \\n STRIKE PRICE \\n  \\\n",
       "0      Index Futures     NIFTY      28-Apr-22              -               -   \n",
       "1      Index Futures     NIFTY      26-May-22              -               -   \n",
       "2      Index Futures     NIFTY      30-Jun-22              -               -   \n",
       "\n",
       "  LAST PRICE \\n  CHNG \\n  %CHNG \\n  VOLUME \\n(Contracts)  \\\n",
       "0     17,737.95   193.50      1.10                192261   \n",
       "1     17,765.00   193.95      1.10                 31528   \n",
       "2     17,800.00   149.65      0.85                  4216   \n",
       "\n",
       "                 VALUE   OPEN INTEREST \\n UNDERLYING VALUE \\n  \n",
       "0  1,69,22,10,18,543.00            238064           17,670.45  \n",
       "1    27,80,73,96,484.00             44307           17,670.45  \n",
       "2     3,72,59,70,104.00              2293           17,670.45  "
      ]
     },
     "execution_count": 23,
     "metadata": {},
     "output_type": "execute_result"
    }
   ],
   "source": [
    "#importing libraries...\n",
    "import pandas as pd\n",
    "import matplotlib.pyplot as plt\n",
    "import numpy as np\n",
    "\n",
    "\n",
    "niftyf = pd.read_csv(r\"C:\\Users\\HP\\Downloads\\MW-FO-nse50_fut-04-Apr-2022.csv\")\n",
    "niftyf"
   ]
  },
  {
   "cell_type": "code",
   "execution_count": 13,
   "id": "a8da6fc6",
   "metadata": {},
   "outputs": [
    {
     "name": "stdout",
     "output_type": "stream",
     "text": [
      "17788.36813819421\n"
     ]
    }
   ],
   "source": [
    "import math\n",
    "# S = Spot price\n",
    "# r =risk-free rate\n",
    "# T= time to expiry\n",
    "# q= Dividend\n",
    "# c= cost of carry\n",
    "\n",
    "def FuturePrice(S,c,T):\n",
    "    return (S*(math.exp(c*T)));\n",
    "\n",
    "S = 17737.95\n",
    "T = 28/365;\n",
    "r = 0.037;\n",
    "q = 0.0\n",
    "c=r-q\n",
    "contractPrice_28april = FuturePrice(S,c,T)\n",
    "print(contractPrice_28april)"
   ]
  },
  {
   "cell_type": "code",
   "execution_count": 14,
   "id": "a289fb79",
   "metadata": {},
   "outputs": [
    {
     "name": "stdout",
     "output_type": "stream",
     "text": [
      "17867.9447553545\n"
     ]
    }
   ],
   "source": [
    "def FuturePrice(S,c,T):\n",
    "    return (S*(math.exp(c*T)));\n",
    "\n",
    "S = 17765.00\n",
    "T = 57/365;\n",
    "r = 0.037;\n",
    "q = 0.0\n",
    "c=r-q\n",
    "contractPrice_26may = FuturePrice(S,c,T)\n",
    "print(contractPrice_26may)"
   ]
  },
  {
   "cell_type": "code",
   "execution_count": 15,
   "id": "b71a0dd3",
   "metadata": {},
   "outputs": [
    {
     "name": "stdout",
     "output_type": "stream",
     "text": [
      "17964.958577550886\n"
     ]
    }
   ],
   "source": [
    "def FuturePrice(S,c,T):\n",
    "    return (S*(math.exp(c*T)));\n",
    "\n",
    "S = 17800.00\n",
    "T = 91/365;\n",
    "r = 0.037;\n",
    "q = 0.0\n",
    "c=r-q\n",
    "contractPrice_30june = FuturePrice(S,c,T)\n",
    "print(contractPrice_30june)"
   ]
  },
  {
   "cell_type": "code",
   "execution_count": 35,
   "id": "435fb9ec",
   "metadata": {},
   "outputs": [
    {
     "name": "stdout",
     "output_type": "stream",
     "text": [
      "  INSTRUMENT TYPE \\n SYMBOL \\n EXPIRY DATE \\n OPTION TYPE \\n STRIKE PRICE \\n  \\\n",
      "0      Index Futures     NIFTY      28-Apr-22              -               -   \n",
      "1      Index Futures     NIFTY      26-May-22              -               -   \n",
      "2      Index Futures     NIFTY      30-Jun-22              -               -   \n",
      "\n",
      "  LAST PRICE \\n  CHNG \\n  %CHNG \\n  VOLUME \\n(Contracts)  \\\n",
      "0     17,737.95   193.50      1.10                192261   \n",
      "1     17,765.00   193.95      1.10                 31528   \n",
      "2     17,800.00   149.65      0.85                  4216   \n",
      "\n",
      "                 VALUE   OPEN INTEREST \\n UNDERLYING VALUE \\n  \n",
      "0  1,69,22,10,18,543.00            238064           17,670.45  \n",
      "1    27,80,73,96,484.00             44307           17,670.45  \n",
      "2     3,72,59,70,104.00              2293           17,670.45  \n"
     ]
    }
   ],
   "source": [
    "df_x = pd.DataFrame(niftyf)\n",
    "print(df_x)"
   ]
  },
  {
   "cell_type": "code",
   "execution_count": 37,
   "id": "a334738e",
   "metadata": {},
   "outputs": [
    {
     "name": "stdout",
     "output_type": "stream",
     "text": [
      "  EXPIRY DATE \\n contract_price\n",
      "0      28-Apr-22       17788.36\n",
      "1      26-May-22       17867.94\n",
      "2      30-Jun-22       17964.95\n"
     ]
    }
   ],
   "source": [
    "fprice = {\"EXPIRY DATE \\n\": [\"28-Apr-22\", \"26-May-22\" , \"30-Jun-22\"],\n",
    "         \"contract_price\" : [\"17788.36\", \"17867.94\",\"17964.95\"]}\n",
    "df_y = pd.DataFrame(fprice)\n",
    "print(df_y)"
   ]
  },
  {
   "cell_type": "code",
   "execution_count": null,
   "id": "3ceba840",
   "metadata": {},
   "outputs": [],
   "source": []
  },
  {
   "cell_type": "code",
   "execution_count": 56,
   "id": "0026cc2e",
   "metadata": {},
   "outputs": [
    {
     "name": "stdout",
     "output_type": "stream",
     "text": [
      "  INSTRUMENT TYPE \\n SYMBOL \\n EXPIRY DATE \\n OPTION TYPE \\n STRIKE PRICE \\n  \\\n",
      "0      Index Futures     NIFTY      28-Apr-22              -               -   \n",
      "1      Index Futures     NIFTY      26-May-22              -               -   \n",
      "2      Index Futures     NIFTY      30-Jun-22              -               -   \n",
      "\n",
      "  LAST PRICE \\n  CHNG \\n  %CHNG \\n  VOLUME \\n(Contracts)  \\\n",
      "0     17,737.95   193.50      1.10                192261   \n",
      "1     17,765.00   193.95      1.10                 31528   \n",
      "2     17,800.00   149.65      0.85                  4216   \n",
      "\n",
      "                 VALUE   OPEN INTEREST \\n UNDERLYING VALUE \\n contract_price  \n",
      "0  1,69,22,10,18,543.00            238064           17,670.45       17788.36  \n",
      "1    27,80,73,96,484.00             44307           17,670.45       17867.94  \n",
      "2     3,72,59,70,104.00              2293           17,670.45       17964.95  \n"
     ]
    }
   ],
   "source": [
    "mergef = pd.merge(df_x ,df_y)\n",
    "print(mergef)"
   ]
  },
  {
   "cell_type": "code",
   "execution_count": 57,
   "id": "97928f21",
   "metadata": {},
   "outputs": [
    {
     "name": "stdout",
     "output_type": "stream",
     "text": [
      "['28-Apr-22', '26-May-22', '30-Jun-22']\n",
      "['17,737.95', '17,765.00', '17,800.00']\n",
      "['17,670.45', '17,670.45', '17,670.45']\n",
      "['17788.36', '17867.94', '17964.95']\n"
     ]
    }
   ],
   "source": [
    "df = pd.DataFrame(mergef)\n",
    "  \n",
    "Date = list(df.iloc[:, 2])\n",
    "Closing_price = list(df.iloc[:, 5])\n",
    "Underlying_price = list(df.iloc[:, 11])\n",
    "Contract_price = list(df.iloc[:,12])\n",
    "\n",
    "\n",
    "print(Date)\n",
    "\n",
    "print(Closing_price)\n",
    "\n",
    "print(Underlying_price)\n",
    "\n",
    "print(Contract_price)"
   ]
  },
  {
   "cell_type": "code",
   "execution_count": 96,
   "id": "52894e43",
   "metadata": {},
   "outputs": [],
   "source": [
    "Closing_price = [17737.95, 17765.00, 17800.00]\n",
    "Underlying_price= [17670.45, 17670.45, 17670.45]\n",
    "Contract_price= [17788.36, 17867.94, 17964.95]\n",
    "Date = ['28-Apr-22', '26-May-22', '30-Jun-22']\n"
   ]
  },
  {
   "cell_type": "code",
   "execution_count": 110,
   "id": "a253fa02",
   "metadata": {},
   "outputs": [
    {
     "data": {
      "text/plain": [
       "<Figure size 864x864 with 0 Axes>"
      ]
     },
     "metadata": {},
     "output_type": "display_data"
    },
    {
     "data": {
      "image/png": "[encoded data removed]",
      "text/plain": [
       "<Figure size 432x288 with 1 Axes>"
      ]
     },
     "metadata": {},
     "output_type": "display_data"
    }
   ],
   "source": [
    "\n",
    "plt.figure(figsize=(12,12))\n",
    "\n",
    "plt.style.use('ggplot')\n",
    "\n",
    "df2 = pd.DataFrame({'Closing_price': Closing_price,\n",
    "                   'Underlying_price': Underlying_price ,'Contract_price' :Contract_price }, index= Date )\n",
    "\n",
    "ax = df2.plot.bar(rot=0)\n",
    "\n",
    "plt.title(\"Comparison in Nifty future\")\n",
    "plt.ylabel(\"Price\")\n",
    "plt.xlabel('Date')\n",
    "plt.show()"
   ]
  },
  {
   "cell_type": "code",
   "execution_count": null,
   "id": "af7fb73b",
   "metadata": {},
   "outputs": [],
   "source": []
  },
  {
   "cell_type": "code",
   "execution_count": null,
   "id": "2ca4134e",
   "metadata": {},
   "outputs": [],
   "source": []
  },
  {
   "cell_type": "code",
   "execution_count": null,
   "id": "ebdc58f0",
   "metadata": {},
   "outputs": [],
   "source": []
  }
 ],
 "metadata": {
  "kernelspec": {
   "display_name": "Python 3 (ipykernel)",
   "language": "python",
   "name": "python3"
  },
  "language_info": {
   "codemirror_mode": {
    "name": "ipython",
    "version": 3
   },
   "file_extension": ".py",
   "mimetype": "text/x-python",
   "name": "python",
   "nbconvert_exporter": "python",
   "pygments_lexer": "ipython3",
   "version": "3.9.7"
  }
 },
 "nbformat": 4,
 "nbformat_minor": 5
}
